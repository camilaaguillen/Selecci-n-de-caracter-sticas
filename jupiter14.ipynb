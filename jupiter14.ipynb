{
 "cells": [
  {
   "cell_type": "markdown",
   "id": "c1106b70-db7a-4697-8084-287aaca1bafa",
   "metadata": {},
   "source": [
    "1. Importamos la base de datos, revisamos sus dimensiones e imprimimos los primeros 5 renglones de la misma."
   ]
  },
  {
   "cell_type": "code",
   "execution_count": 1,
   "id": "8da7d1a2-242e-4071-9738-41e97fcaa82f",
   "metadata": {},
   "outputs": [
    {
     "name": "stdout",
     "output_type": "stream",
     "text": [
      "Dimensiones del data frame (1599, 12)\n",
      "   acidezFija  acidezVolatil  acidoCitrico  azucarResidual  cloruros  \\\n",
      "0         7.4           0.70          0.00             1.9     0.076   \n",
      "1         7.8           0.88          0.00             2.6     0.098   \n",
      "2         7.8           0.76          0.04             2.3     0.092   \n",
      "3        11.2           0.28          0.56             1.9     0.075   \n",
      "4         7.4           0.70          0.00             1.9     0.076   \n",
      "\n",
      "   dioxidoAzufreLibre  dioxidoAzufreTotal  densidad    pH  sulfatos  alcohol  \\\n",
      "0                11.0                34.0    0.9978  3.51      0.56      9.4   \n",
      "1                25.0                67.0    0.9968  3.20      0.68      9.8   \n",
      "2                15.0                54.0    0.9970  3.26      0.65      9.8   \n",
      "3                17.0                60.0    0.9980  3.16      0.58      9.8   \n",
      "4                11.0                34.0    0.9978  3.51      0.56      9.4   \n",
      "\n",
      "   calidad  \n",
      "0        5  \n",
      "1        5  \n",
      "2        5  \n",
      "3        6  \n",
      "4        5  \n"
     ]
    }
   ],
   "source": [
    "import pandas as pd #Importamos la librería\n",
    "datos=pd.read_csv(\"A1.4 Vino Tinto.csv\") #leemos la base de datos\n",
    "print(\"Dimensiones del data frame\", datos.shape) #Revisar dimensiones con función shape\n",
    "print(datos.head(5)) #Imprimir primeros 5 con función head"
   ]
  },
  {
   "cell_type": "markdown",
   "id": "a4606670-76cf-4967-af2d-6d271cc0566e",
   "metadata": {},
   "source": [
    "2. Separamos el data frame en datos de entrenamiento y datos de prueba con una proporción 80/20."
   ]
  },
  {
   "cell_type": "code",
   "execution_count": 2,
   "id": "fecfc89b-ef7a-4a1e-9593-2c728a3758b9",
   "metadata": {},
   "outputs": [
    {
     "name": "stdout",
     "output_type": "stream",
     "text": [
      "Train: 1279\n",
      "Test: 320\n",
      "Total de datos:  1599\n"
     ]
    }
   ],
   "source": [
    "train=datos.sample(frac=.8, random_state=42) #Escogemos los datos de entrenamiento que sean un 80%\n",
    "test = datos.drop(train.index) #Drop o soltamos los datos previamente escogidos para el entrenamiento\n",
    "x_train=train.drop(\"calidad\", axis=1) #Separamos las variables\n",
    "y_train=train[\"calidad\"] #Definimos la calidad como la variable de salida\n",
    "x_test=test.drop(\"calidad\", axis=1) #Separamos las variables\n",
    "y_test=test[\"calidad\"] #Definimos la calidad como la variable de salida\n",
    "print(\"Train:\", train.shape[0])\n",
    "print(\"Test:\",test.shape[0])\n",
    "total=train.shape[0]+test.shape[0] #Verificamos si tener el total de datos\n",
    "print(\"Total de datos: \", total)"
   ]
  },
  {
   "cell_type": "markdown",
   "id": "2cc22087-736a-4838-9eeb-0792cd889f56",
   "metadata": {},
   "source": [
    "3. Generamos la metodología de selección hacia adelante, utilizando la función “SequentialFeatureSelector”, utilizando los siguientes parámetros:\n",
    "   - estimator: Un modelo de regresión lineal. \n",
    "   - k_features: Se puede seleccionar la cantidad de variables de salida que se desean o un rango, en este caso de 1-8\n",
    "   - forward. Determina si se hace selección hacia adelante (True)\n",
    "   - scoring. La métrica que se usará para determinar si un modelo es mejor que otro, usamos R2\n",
    "   - cv. Si se desea realizar validación cruzada, y cuántas instancias de la misma, 10"
   ]
  },
  {
   "cell_type": "code",
   "execution_count": 3,
   "id": "88b6dc06-fed5-4114-9a4f-793e9ccfd78d",
   "metadata": {},
   "outputs": [
    {
     "name": "stdout",
     "output_type": "stream",
     "text": [
      "Variables seleccionadas:  ('acidezVolatil', 'cloruros', 'dioxidoAzufreLibre', 'dioxidoAzufreTotal', 'pH', 'sulfatos', 'alcohol')\n"
     ]
    }
   ],
   "source": [
    "from mlxtend.feature_selection import SequentialFeatureSelector as SFS #Importamos función de la librería\n",
    "from sklearn.linear_model import LinearRegression #importamos función para usar como estimator\n",
    "sfs_1 = SFS(LinearRegression(), k_features=(1,8), forward=True,scoring='r2',cv=10) #Definimos los parámetros de la función de selección\n",
    "sfs_1= sfs_1.fit(x_train, y_train) #Aplicamos sfs a nuestros datos de entrenamiento\n",
    "print(\"Variables seleccionadas: \", sfs_1.k_feature_names_)"
   ]
  },
  {
   "cell_type": "markdown",
   "id": "3530ec5e-3d2b-4de2-b88e-020a5e813959",
   "metadata": {},
   "source": [
    "4. Entrenar un modelo que solamente contenga las variables seleccionadas, predecir la respuesta en las observaciones de prueba y medir la capacidad de predicción del modelo"
   ]
  },
  {
   "cell_type": "code",
   "execution_count": 5,
   "id": "fcaeca82-8bb2-44f4-9e60-7df5dc6f82c9",
   "metadata": {},
   "outputs": [
    {
     "name": "stdout",
     "output_type": "stream",
     "text": [
      "R² del modelo en datos de prueba: 0.42422507631408857\n"
     ]
    }
   ],
   "source": [
    "from sklearn.metrics import r2_score #Importamos función de la librería\n",
    "lr=LinearRegression()\n",
    "x_train_sfs = sfs_1.transform(x_train) #Quitamos variables no seleccionadas del train\n",
    "x_test_sfs  = sfs_1.transform(x_test) #Quitamos variables no seleccionadas del test\n",
    "lr.fit(x_train_sfs, y_train) #Ajustamos los datos de entrenamiento a la regresión lineal\n",
    "y_pred = lr.predict(x_test_sfs) #Predecimos con los datos de prueba\n",
    "r2 = r2_score(y_test, y_pred) #Revisamos R2 entre y predecida y y de datos de prueba \n",
    "print(\"R² del modelo en datos de prueba:\", r2)"
   ]
  },
  {
   "cell_type": "markdown",
   "id": "b644568a-8d3c-4fb1-984f-e152d1403581",
   "metadata": {},
   "source": [
    "5. Realizar un proceso de selección hacia atrás a partir de las variables seleccionadas por el método de selección hacia adelante"
   ]
  },
  {
   "cell_type": "code",
   "execution_count": 6,
   "id": "6924a81b-7507-42ec-8791-640df3250279",
   "metadata": {},
   "outputs": [
    {
     "name": "stdout",
     "output_type": "stream",
     "text": [
      "Variables seleccionadas:  ['acidezVolatil', 'cloruros', 'pH', 'sulfatos', 'alcohol']\n"
     ]
    }
   ],
   "source": [
    "sfs_2 = SFS(LinearRegression(), k_features=(1,5), forward=False,scoring='r2',cv=10) #Definimos los parámetros de la función de selección\n",
    "sfs_2 = sfs_2.fit(x_train_sfs , y_train) #Aplicamos sfs a nuestros datos de entrenamiento ya ajustados\n",
    "#Hacemos esto para que se muestren los nombres de las variables escogidas, ya que al usar SFS primero, cambia los nombres de columna a números. \n",
    "selected_first = list(sfs_1.k_feature_names_) \n",
    "idx_second = sfs_2.k_feature_idx_\n",
    "selected_final = [selected_first[i] for i in idx_second] \n",
    "print(\"Variables seleccionadas: \", selected_final)"
   ]
  },
  {
   "cell_type": "markdown",
   "id": "4b3ee7d6-1455-4784-8643-d46268862a1e",
   "metadata": {},
   "source": [
    "6. Repetir el paso 4, pero para un modelo que contenga solamente las variables seleccionadas en el paso 5"
   ]
  },
  {
   "cell_type": "code",
   "execution_count": 7,
   "id": "3c8fd892-5ca4-4526-b3ae-76950a187ee6",
   "metadata": {},
   "outputs": [
    {
     "name": "stdout",
     "output_type": "stream",
     "text": [
      "R² del modelo en datos de prueba: 0.4183186968674144\n"
     ]
    }
   ],
   "source": [
    "x_train_sfs_2 = sfs_2.transform(x_train_sfs) #Quitamos variables no seleccionadas del train\n",
    "x_test_sfs_2  = sfs_2.transform(x_test_sfs) #Quitamos variables no seleccionadas del test\n",
    "lr.fit(x_train_sfs_2, y_train) #Ajustamos los datos de entrenamiento a la regresión lineal\n",
    "y_pred_2 = lr.predict(x_test_sfs_2) #Predecimos con los datos de prueba\n",
    "r2_back = r2_score(y_test, y_pred_2) #Revisamos R2 entre y predecida y y de datos de prueba \n",
    "print(\"R² del modelo en datos de prueba:\", r2_back)"
   ]
  },
  {
   "cell_type": "markdown",
   "id": "0bcddd83-2740-4697-a571-dc9bb3957fc3",
   "metadata": {},
   "source": [
    "Aunque la R2 del paso 4 es mejor que la del paso 6, logramos eliminar 2 variables y la R2 baja solamente muy poco,"
   ]
  }
 ],
 "metadata": {
  "kernelspec": {
   "display_name": "Python [conda env:base] *",
   "language": "python",
   "name": "conda-base-py"
  },
  "language_info": {
   "codemirror_mode": {
    "name": "ipython",
    "version": 3
   },
   "file_extension": ".py",
   "mimetype": "text/x-python",
   "name": "python",
   "nbconvert_exporter": "python",
   "pygments_lexer": "ipython3",
   "version": "3.13.5"
  }
 },
 "nbformat": 4,
 "nbformat_minor": 5
}
